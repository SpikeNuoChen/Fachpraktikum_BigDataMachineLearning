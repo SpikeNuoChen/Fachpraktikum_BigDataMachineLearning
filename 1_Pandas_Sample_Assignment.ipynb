{
 "cells": [
  {
   "cell_type": "markdown",
   "metadata": {},
   "source": [
    "# Datenanalyse mit *Pandas* und *Matplotlib*\n",
    "\n",
    "## Pandas\n",
    "Pandas ist eine der am weiten verbreitesten Python-Biblitheken für Data Science. Pandas stellt 2 verschiedene Datentypen bereit:\n",
    "* **Series**: entspricht einer Excel Spalte mit Index\n",
    "<img src=\"series.png\" alt=\"pands Series\" width=\"100\"/>\n",
    "* **DataFrame**: 2D-Tabellenobjekt mit Spalten und Reihen (zusammengesetzt aus mehreren Series)\n",
    "<img src=\"df.png\" alt=\"pandas DataFrame\" width=\"150\"/>\n",
    "\n",
    "Liegen Daten in dieser Form vor, können einfach Analysen, Datenmanipulation, Datenzusammenführung etc. damit durchgeführt werden.\n",
    "\n",
    "Pandas liefert zudem eine `plot()` Funktion, die es ermöglicht die im DataFrame gehaltenen Daten direkt zu plotten. `plot()`  basiert auf der Python-Bibliothek *matplotlib*.\n",
    "\n",
    "## Seaborn\n",
    "\n",
    "Seaborn ist eine pythonbasierte Plotting-Bibliothek, die ebenfalls auf matplotlib basiert. Seaborn kann einfach mit pandas *DataFrame* Objekten umgehen."
   ]
  },
  {
   "cell_type": "markdown",
   "metadata": {},
   "source": [
    "## Jupyter notebook Grundlagen\n",
    "* Ausführen einer Zelle und Sprung zur nächsten Zelle `Shift + Enter`\n",
    "* Auswahl der nächsten Zelle `Esc -> Down`, Auswahl der vorigen Zelle `Esc -> Up`\n",
    "* Printing\n",
    "  1. Nutzung der Python-`print()` Funktion\n",
    "  2. Formatierte Ausgabe: Aufrufen einer Variablen in der letzten Zeile einer Zelle (ohne `print()`)"
   ]
  },
  {
   "cell_type": "markdown",
   "metadata": {},
   "source": [
    "# Übungsaufgaben"
   ]
  },
  {
   "cell_type": "markdown",
   "metadata": {},
   "source": [
    "## Dataset: Titanic\n",
    "\n",
    "Verfügbar unter: https://www.kaggle.com/c/titanic/data. Arbeitsgrundlage für die Übungsaufgaben: **train.csv**.\n",
    "\n",
    "### Erläuterung des Datensatzes\n",
    "Der Datensatz enthält Passagierdaten des Kreuzfahrtschiffes Titanic, das am 15. April 1912 gesunken ist. Für jeden Passagier sind verschiedene Merkmale verfügbar:\n",
    "\n",
    "| Merkmal | Erklärung|\n",
    "| --------| ---------|\n",
    "|survival | Hat der Passagier den Untergang überlebt? (0 = Nein, 1 = Ja) |\n",
    "|pclass   | Ticket-/Passagierklasse (1= 1. Klasse, 2= 2. Klasse, 3 = 3. Klasse)|\n",
    "|sex      | Geschlecht |\n",
    "|age      | Alter in Jahren |\n",
    "|sibsp    | Anzahl von Geschwistern/Ehepartnern  an Bord der Titanic |\n",
    "|parch    | Anzahl von Eltern/Kindern an Bord der Titanic |\n",
    "|ticket   | Ticket Nummer |\n",
    "|fare     | Fahrpreis |\n",
    "|cabin    | Kabinennummer |\n",
    "|embarked | Einschiffungshafen (C = Cherbourg, Q = Queenstown, S = Southhampton)| "
   ]
  },
  {
   "cell_type": "code",
   "execution_count": null,
   "metadata": {},
   "outputs": [],
   "source": [
    "# Load pandas\n",
    "import pandas as pd\n",
    "\n",
    "# Plotting library\n",
    "import seaborn as sns\n",
    "import matplotlib.pyplot as plt\n",
    "\n",
    "# render plots in jupyter notebook\n",
    "%matplotlib inline"
   ]
  },
  {
   "cell_type": "markdown",
   "metadata": {},
   "source": [
    "## 2. CSV-Datei einlesen\n",
    "\n",
    "Lade die Datei \"titanic-train.csv\" und weise sie der Variablen `df` zu. Setze hierbei die *PassengerId* als DataFrame-Index.\n",
    "\n",
    "**Tipp:** um zu kontrollieren, ob das Einlesen richtig funktioniert hat kannst du dir den Kopf des DataFrames anzeigen lassen."
   ]
  },
  {
   "cell_type": "code",
   "execution_count": null,
   "metadata": {},
   "outputs": [],
   "source": []
  },
  {
   "cell_type": "markdown",
   "metadata": {},
   "source": [
    "## 3. Infos anzeigen\n",
    "\n",
    "Erste Analyse des `df` DataFrames. Lasse dir Folgendes ausgeben:"
   ]
  },
  {
   "cell_type": "markdown",
   "metadata": {},
   "source": [
    "#### 1. die Dimensionen des DataFrames"
   ]
  },
  {
   "cell_type": "code",
   "execution_count": null,
   "metadata": {
    "scrolled": true
   },
   "outputs": [],
   "source": []
  },
  {
   "cell_type": "markdown",
   "metadata": {},
   "source": [
    "#### 2. die ersten 8 Zeilen des DataFrames anzeigen"
   ]
  },
  {
   "cell_type": "code",
   "execution_count": null,
   "metadata": {},
   "outputs": [],
   "source": []
  },
  {
   "cell_type": "markdown",
   "metadata": {},
   "source": [
    "#### 3. alle Spaltennamen des DataFrames ausgeben"
   ]
  },
  {
   "cell_type": "code",
   "execution_count": null,
   "metadata": {},
   "outputs": [],
   "source": []
  },
  {
   "cell_type": "markdown",
   "metadata": {},
   "source": [
    "#### 4. eine statistische Zusammenfassung des DataFrames anzeigen"
   ]
  },
  {
   "cell_type": "code",
   "execution_count": null,
   "metadata": {},
   "outputs": [],
   "source": []
  },
  {
   "cell_type": "markdown",
   "metadata": {},
   "source": [
    "## 4. Indexing & Sorting\n",
    "\n",
    "#### 1. Selektiere die Spalten *Fare* und *Age* und gib den Head der Selektion aus"
   ]
  },
  {
   "cell_type": "code",
   "execution_count": null,
   "metadata": {},
   "outputs": [],
   "source": []
  },
  {
   "cell_type": "markdown",
   "metadata": {},
   "source": [
    "#### 2. Selektiere die letzten 4 Reihen"
   ]
  },
  {
   "cell_type": "code",
   "execution_count": null,
   "metadata": {},
   "outputs": [],
   "source": []
  },
  {
   "cell_type": "markdown",
   "metadata": {},
   "source": [
    "#### 3. Selektiere die Namen und Ticket Nummern für die Reihen 100-105"
   ]
  },
  {
   "cell_type": "code",
   "execution_count": null,
   "metadata": {},
   "outputs": [],
   "source": []
  },
  {
   "cell_type": "markdown",
   "metadata": {},
   "source": [
    "#### 4. Selektiere die Reihen [10,20,30,40,50,60,70,80,90,100] und sortiere sie absteigend nach dem Alter"
   ]
  },
  {
   "cell_type": "code",
   "execution_count": null,
   "metadata": {},
   "outputs": [],
   "source": []
  },
  {
   "cell_type": "markdown",
   "metadata": {},
   "source": [
    "### 4.1 Bedingte Selektion\n",
    "\n",
    "#### 1. Wie viele Passagiere reisen in Passagierklasse 1?"
   ]
  },
  {
   "cell_type": "code",
   "execution_count": null,
   "metadata": {},
   "outputs": [],
   "source": []
  },
  {
   "cell_type": "markdown",
   "metadata": {},
   "source": [
    "#### 2. Welche Passagiere haben Geschwister (SibSp) und sind älter als 60 Jahre?"
   ]
  },
  {
   "cell_type": "code",
   "execution_count": null,
   "metadata": {},
   "outputs": [],
   "source": []
  },
  {
   "cell_type": "markdown",
   "metadata": {},
   "source": [
    "## 5. Verschiedenes"
   ]
  },
  {
   "cell_type": "markdown",
   "metadata": {},
   "source": [
    "#### 1. Lasse dir eine Auflistung der Anzahlen von eindeutigen Werten der Spalte *Embarked* ausgeben"
   ]
  },
  {
   "cell_type": "code",
   "execution_count": null,
   "metadata": {},
   "outputs": [],
   "source": []
  },
  {
   "cell_type": "markdown",
   "metadata": {},
   "source": [
    "#### 2. Binary Encoding\n",
    "1. Ersetze die String-Werte der Spalte 'Sex' durch Integer Werte (0 = female,1 =male).\n",
    "2. Benenne die Spalte in `Male` um."
   ]
  },
  {
   "cell_type": "code",
   "execution_count": null,
   "metadata": {
    "scrolled": true
   },
   "outputs": [],
   "source": []
  },
  {
   "cell_type": "markdown",
   "metadata": {},
   "source": [
    "## 6. Missing values\n",
    "\n",
    "1. Enthält der DataFrame missing values?"
   ]
  },
  {
   "cell_type": "code",
   "execution_count": null,
   "metadata": {},
   "outputs": [],
   "source": [
    "df.isnull().any()"
   ]
  },
  {
   "cell_type": "markdown",
   "metadata": {},
   "source": [
    "#### 2. Wie viele NaN Werte enthält der DataFrame in jeder einzelnen Spalte?"
   ]
  },
  {
   "cell_type": "code",
   "execution_count": null,
   "metadata": {},
   "outputs": [],
   "source": []
  },
  {
   "cell_type": "markdown",
   "metadata": {},
   "source": [
    "#### 3. Entferne die Spalte mit den meisten NaN Werten aus dem DataFrame"
   ]
  },
  {
   "cell_type": "code",
   "execution_count": null,
   "metadata": {},
   "outputs": [],
   "source": []
  },
  {
   "cell_type": "markdown",
   "metadata": {},
   "source": [
    "#### Entferne diejenigen Reihen, die NaN Werte in der Spalte *Embarked* enthalten"
   ]
  },
  {
   "cell_type": "code",
   "execution_count": null,
   "metadata": {},
   "outputs": [],
   "source": []
  },
  {
   "cell_type": "markdown",
   "metadata": {},
   "source": [
    "#### 5. Ersetze die NaN Werte der Spalte *Alter* mit dem durchschnittlichen Alter"
   ]
  },
  {
   "cell_type": "code",
   "execution_count": null,
   "metadata": {},
   "outputs": [],
   "source": []
  },
  {
   "cell_type": "markdown",
   "metadata": {},
   "source": [
    "## Plots (Data Anlaysis)\n",
    "### Seaborn"
   ]
  },
  {
   "cell_type": "markdown",
   "metadata": {},
   "source": [
    "#### 1. Erstelle einen pairplot für die Spalten: [Pclass, Fare, Male, Parch, SibSp, Age]\n",
    "\n",
    "Fragestellungen:\n",
    "* Welche Zusammenhänge zwischen dem Überleben des Untergangs der Titanic und den einzelnen Features lassen sich ablesen?\n",
    "* Welche Zusammenhänge zwischen den Features lassen sich ablesen?"
   ]
  },
  {
   "cell_type": "code",
   "execution_count": null,
   "metadata": {},
   "outputs": [],
   "source": []
  },
  {
   "cell_type": "markdown",
   "metadata": {},
   "source": [
    "#### 2. Erstelle ein Diagramm über die Klassenverteilung (Gegenüberstellung der Anzahl an Einträgen in den beiden Klassen)"
   ]
  },
  {
   "cell_type": "code",
   "execution_count": null,
   "metadata": {},
   "outputs": [],
   "source": []
  },
  {
   "cell_type": "markdown",
   "metadata": {},
   "source": [
    "#### ZUSATZAUFGABE\n",
    "#### 3. Erstelle einen Violinenplot mit folgenden Eigenschaften:\n",
    "* X-Achse: \"Pclass\", Y-Achse: \"Age\", Farbtonvariable (engl. \"hue\"): \"Survived\", split=True\n",
    "\n",
    "Was lässt sich daran ableiten?"
   ]
  },
  {
   "cell_type": "code",
   "execution_count": null,
   "metadata": {},
   "outputs": [],
   "source": []
  },
  {
   "cell_type": "markdown",
   "metadata": {},
   "source": [
    "# Quiz"
   ]
  },
  {
   "cell_type": "markdown",
   "metadata": {},
   "source": [
    "### 1. Wie hieß der jüngste Passagier der Titanic und wie alt war er?"
   ]
  },
  {
   "cell_type": "code",
   "execution_count": null,
   "metadata": {},
   "outputs": [],
   "source": []
  },
  {
   "cell_type": "markdown",
   "metadata": {},
   "source": [
    "### 2. Unter welcher Passagierklasse und Ticketnummer ist Familie *Goodwin* gereist?"
   ]
  },
  {
   "cell_type": "code",
   "execution_count": null,
   "metadata": {},
   "outputs": [],
   "source": []
  },
  {
   "cell_type": "markdown",
   "metadata": {},
   "source": [
    "### 3. Überleben männlicher Passagiere:\n",
    "#### Haben mehr männliche Passagiere der Passagierklasse 1 oder der Passagierklasse 3 den Untergang überlebt?"
   ]
  },
  {
   "cell_type": "code",
   "execution_count": null,
   "metadata": {},
   "outputs": [],
   "source": []
  },
  {
   "cell_type": "markdown",
   "metadata": {},
   "source": [
    "#### Plotte die Anzahl der männlichen Überlebenden für den Passagierklassen 1, 2 und 3.\n",
    "\n",
    "Tipp: Nutze hierfür ein pandas Bar-Diagramm oder Seaborn Countplots"
   ]
  },
  {
   "cell_type": "code",
   "execution_count": null,
   "metadata": {},
   "outputs": [],
   "source": []
  },
  {
   "cell_type": "markdown",
   "metadata": {},
   "source": [
    "### 4. Subplots\n",
    "Erstelle einen Plot mit 2 Subplots (1 Reihe, 2 Spalten).\n",
    "\n",
    "Die beiden Plots sollen die Anzahl der \n",
    "* a) Passagiere in den 3 Passagierklassen,\n",
    "* b) der männlichen Passagiere,\n",
    "\n",
    "getrennt nach Überleben/nicht-Überleben darstellen."
   ]
  },
  {
   "cell_type": "code",
   "execution_count": null,
   "metadata": {},
   "outputs": [],
   "source": []
  },
  {
   "cell_type": "markdown",
   "metadata": {},
   "source": [
    "# Principle Component Analysis"
   ]
  },
  {
   "cell_type": "markdown",
   "metadata": {},
   "source": [
    "Entferne zunächst die Features `Name` und `Ticket` aus dem Dataframe. Das Feature `Embarked` enthält noch Strings, die für unsere weitere Analyse nicht verarbeiten können. Wende hier die One-Hot-Encoding Methode an. Tipp: Pandas besitzt dafür die `get_dummies()`-Methode."
   ]
  },
  {
   "cell_type": "code",
   "execution_count": null,
   "metadata": {},
   "outputs": [],
   "source": []
  },
  {
   "cell_type": "markdown",
   "metadata": {},
   "source": [
    "Lass dir nun die Korrelationsmatrix des Datensatzes ausgeben und plotten. Welche Zusammenhänge sind erkennbar?"
   ]
  },
  {
   "cell_type": "code",
   "execution_count": null,
   "metadata": {},
   "outputs": [],
   "source": []
  },
  {
   "cell_type": "markdown",
   "metadata": {},
   "source": [
    "Wir wollen jetzt die PCA-Methode (Principal Component Analysis) verwenden, um die Dimension des Datensatzes zu reduzieren. In der nächsten Zelle werden daher die notwendigen Pakete importiert und das Dataframe vorverarbeitet. Führe die Zelle aus. Die Datenpunkte sind danach in der Variable `arr` gespeichert."
   ]
  },
  {
   "cell_type": "code",
   "execution_count": null,
   "metadata": {},
   "outputs": [],
   "source": [
    "from sklearn.decomposition import PCA\n",
    "from sklearn import preprocessing\n",
    "\n",
    "X = df.to_numpy()\n",
    "\n",
    "arr = preprocessing.normalize(preprocessing.scale(X))"
   ]
  },
  {
   "cell_type": "markdown",
   "metadata": {},
   "source": [
    "Initialisiere jetzt eine Instanz der `PCA`-Klasse mit **2** Komponenten und fitte diese mit ihrer eingebauten Methode auf den Datensatz. Transformiere den gleichen Datensatz danach. Überprüfe die Dimension des neuen Datensatzes mit `.shape`."
   ]
  },
  {
   "cell_type": "code",
   "execution_count": null,
   "metadata": {},
   "outputs": [],
   "source": []
  },
  {
   "cell_type": "markdown",
   "metadata": {},
   "source": [
    "Weise nun deinen transformierten Datensatz der Variable `data` zu und führe die Zelle aus. Was wird hier geplottet? Wieso sind die Ausprägungen der einzelnen Features in Clustern zu sehen?"
   ]
  },
  {
   "cell_type": "code",
   "execution_count": null,
   "metadata": {},
   "outputs": [],
   "source": [
    "data = # füge hier deinen transformierten Datensatz ein\n",
    "\n",
    "feat_list = list(df.columns)\n",
    "\n",
    "for feat in feat_list:\n",
    "    plt.title(feat)\n",
    "    plt.scatter(data[:,0], data[:,1], edgecolors='face', c=df[feat].values)\n",
    "    plt.show()"
   ]
  }
 ],
 "metadata": {
  "kernelspec": {
   "display_name": "Python 3",
   "language": "python",
   "name": "python3"
  },
  "language_info": {
   "codemirror_mode": {
    "name": "ipython",
    "version": 3
   },
   "file_extension": ".py",
   "mimetype": "text/x-python",
   "name": "python",
   "nbconvert_exporter": "python",
   "pygments_lexer": "ipython3",
   "version": "3.7.3"
  }
 },
 "nbformat": 4,
 "nbformat_minor": 2
}
